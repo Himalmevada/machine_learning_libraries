{
 "cells": [
  {
   "cell_type": "code",
   "execution_count": 1,
   "id": "b34c3dbb-0be2-472a-b3b1-4b38104d4ecf",
   "metadata": {},
   "outputs": [],
   "source": [
    "### Correlation Matrix"
   ]
  },
  {
   "cell_type": "code",
   "execution_count": 5,
   "id": "5c251bbf-19f2-4914-afcd-865e3bbdff37",
   "metadata": {},
   "outputs": [],
   "source": [
    "### Matplotlib"
   ]
  },
  {
   "cell_type": "code",
   "execution_count": 2,
   "id": "2408b38c-4a54-46e5-b19e-e2cdfdb3d62c",
   "metadata": {},
   "outputs": [],
   "source": [
    "### Heatmap"
   ]
  },
  {
   "cell_type": "code",
   "execution_count": 3,
   "id": "f10e913c-839e-44ee-8c3b-23941a022b95",
   "metadata": {},
   "outputs": [],
   "source": [
    "### Relationship between : Num - Num , Num - Cat, Cat - Cat"
   ]
  },
  {
   "cell_type": "code",
   "execution_count": 4,
   "id": "386331e5-6542-4d96-bffa-470c1538ee85",
   "metadata": {},
   "outputs": [],
   "source": [
    "### Univariate, Bivariate, Multivariate Analysis"
   ]
  },
  {
   "cell_type": "code",
   "execution_count": 7,
   "id": "0dd716fb-846b-44e8-9bc2-6ddc20f4bd45",
   "metadata": {},
   "outputs": [],
   "source": [
    "### Plotting -> Histogram, Pairplot"
   ]
  },
  {
   "cell_type": "markdown",
   "id": "06661326-2f70-480d-9af5-843b4b2ca02f",
   "metadata": {},
   "source": [
    "## Numpy -> Array, Array Operation, Sorting, Accessing, Slicing"
   ]
  },
  {
   "cell_type": "code",
   "execution_count": 9,
   "id": "688faf7e-0eae-4df2-b324-2943bcba1513",
   "metadata": {},
   "outputs": [],
   "source": [
    "import numpy as np"
   ]
  },
  {
   "cell_type": "markdown",
   "id": "007c765e-b2b4-437f-b2f4-33dbe10fc15d",
   "metadata": {},
   "source": [
    "## Array Initialization"
   ]
  },
  {
   "cell_type": "code",
   "execution_count": 16,
   "id": "8703f7f1-7296-4d61-b2ad-1c9cde0f86c6",
   "metadata": {},
   "outputs": [
    {
     "data": {
      "text/plain": [
       "array([1, 2, 3])"
      ]
     },
     "execution_count": 16,
     "metadata": {},
     "output_type": "execute_result"
    }
   ],
   "source": [
    "# 1d - vector\n",
    "np.array([1,2,3])"
   ]
  },
  {
   "cell_type": "code",
   "execution_count": 17,
   "id": "0b8f39b6-0198-4ec4-b332-7549aa2c0028",
   "metadata": {},
   "outputs": [
    {
     "data": {
      "text/plain": [
       "numpy.ndarray"
      ]
     },
     "execution_count": 17,
     "metadata": {},
     "output_type": "execute_result"
    }
   ],
   "source": [
    "type(np.array([1,2,3]))"
   ]
  },
  {
   "cell_type": "code",
   "execution_count": 18,
   "id": "7081b94b-dca5-4c56-925a-57a6ee36877e",
   "metadata": {},
   "outputs": [
    {
     "data": {
      "text/plain": [
       "array([[1, 2],\n",
       "       [3, 4]])"
      ]
     },
     "execution_count": 18,
     "metadata": {},
     "output_type": "execute_result"
    }
   ],
   "source": [
    "# 2d - matrix\n",
    "np.array([[1,2],[3,4]])"
   ]
  },
  {
   "cell_type": "code",
   "execution_count": 19,
   "id": "36048b82-5331-43b0-b4ac-bdd517bfdc4f",
   "metadata": {},
   "outputs": [
    {
     "data": {
      "text/plain": [
       "array([[[1, 2],\n",
       "        [3, 4]],\n",
       "\n",
       "       [[5, 6],\n",
       "        [7, 8]]])"
      ]
     },
     "execution_count": 19,
     "metadata": {},
     "output_type": "execute_result"
    }
   ],
   "source": [
    "# 3d - tensor\n",
    "np.array([\n",
    "    [\n",
    "        [1,2,],\n",
    "        [3,4]\n",
    "    ],\n",
    "    [\n",
    "        [5,6,],\n",
    "        [7,8]\n",
    "    ]\n",
    "])"
   ]
  },
  {
   "cell_type": "code",
   "execution_count": 20,
   "id": "a34bfe9c-c9eb-4c34-9220-c65f60e88526",
   "metadata": {},
   "outputs": [
    {
     "data": {
      "text/plain": [
       "array([ True,  True,  True])"
      ]
     },
     "execution_count": 20,
     "metadata": {},
     "output_type": "execute_result"
    }
   ],
   "source": [
    "# dtype\n",
    "np.array([1,2,3],dtype=bool)"
   ]
  },
  {
   "cell_type": "code",
   "execution_count": 21,
   "id": "daaa0f9d-e796-4bd8-a79b-6e6a0058d6de",
   "metadata": {},
   "outputs": [
    {
     "data": {
      "text/plain": [
       "array([12., 23., 34.])"
      ]
     },
     "execution_count": 21,
     "metadata": {},
     "output_type": "execute_result"
    }
   ],
   "source": [
    "np.array([12,23,34],dtype=float)"
   ]
  },
  {
   "cell_type": "code",
   "execution_count": 23,
   "id": "50fa8705-0010-4b4d-9798-1d38b4d90b01",
   "metadata": {},
   "outputs": [
    {
     "data": {
      "text/plain": [
       "array([1, 2, 4])"
      ]
     },
     "execution_count": 23,
     "metadata": {},
     "output_type": "execute_result"
    }
   ],
   "source": [
    "np.array([1.2,2.3,4.5],dtype=int)"
   ]
  },
  {
   "cell_type": "code",
   "execution_count": 25,
   "id": "72b506b3-2728-48ca-bc40-8ce5fce00d27",
   "metadata": {},
   "outputs": [
    {
     "data": {
      "text/plain": [
       "array([1.+0.j, 2.+0.j, 4.+0.j])"
      ]
     },
     "execution_count": 25,
     "metadata": {},
     "output_type": "execute_result"
    }
   ],
   "source": [
    "np.array([1,2,4],dtype=complex)"
   ]
  },
  {
   "cell_type": "code",
   "execution_count": 27,
   "id": "f438be5c-bccb-407a-bc8f-1ded8a0ee8cb",
   "metadata": {},
   "outputs": [
    {
     "data": {
      "text/plain": [
       "array([ 1,  2,  3,  4,  5,  6,  7,  8,  9, 10])"
      ]
     },
     "execution_count": 27,
     "metadata": {},
     "output_type": "execute_result"
    }
   ],
   "source": [
    "# np.range\n",
    "np.arange(1,11)"
   ]
  },
  {
   "cell_type": "code",
   "execution_count": 28,
   "id": "5babfd6e-1254-4e13-8bb7-322e8cce8070",
   "metadata": {},
   "outputs": [
    {
     "data": {
      "text/plain": [
       "array([ 1,  3,  5,  7,  9, 11, 13, 15, 17, 19])"
      ]
     },
     "execution_count": 28,
     "metadata": {},
     "output_type": "execute_result"
    }
   ],
   "source": [
    "np.arange(1,21,2)"
   ]
  },
  {
   "cell_type": "code",
   "execution_count": 30,
   "id": "73ea3d30-37b7-4773-8ade-5c305ddf449e",
   "metadata": {},
   "outputs": [
    {
     "data": {
      "text/plain": [
       "array([[ 1,  2],\n",
       "       [ 3,  4],\n",
       "       [ 5,  6],\n",
       "       [ 7,  8],\n",
       "       [ 9, 10]])"
      ]
     },
     "execution_count": 30,
     "metadata": {},
     "output_type": "execute_result"
    }
   ],
   "source": [
    "# reshape\n",
    "np.arange(1,11).reshape(5,2)"
   ]
  },
  {
   "cell_type": "code",
   "execution_count": 65,
   "id": "a109d25e-1a3b-4376-8e6d-e6fbc49e476d",
   "metadata": {},
   "outputs": [
    {
     "data": {
      "text/plain": [
       "array([[[ 0,  1],\n",
       "        [ 2,  3],\n",
       "        [ 4,  5]],\n",
       "\n",
       "       [[ 6,  7],\n",
       "        [ 8,  9],\n",
       "        [10, 11]],\n",
       "\n",
       "       [[12, 13],\n",
       "        [14, 15],\n",
       "        [16, 17]],\n",
       "\n",
       "       [[18, 19],\n",
       "        [20, 21],\n",
       "        [22, 23]]])"
      ]
     },
     "execution_count": 65,
     "metadata": {},
     "output_type": "execute_result"
    }
   ],
   "source": [
    "np.arange(24).reshape(4,3,2)"
   ]
  },
  {
   "cell_type": "code",
   "execution_count": 32,
   "id": "96983be7-82d3-40a3-8996-44573e629329",
   "metadata": {},
   "outputs": [
    {
     "data": {
      "text/plain": [
       "array([[ 1,  2,  3,  4,  5],\n",
       "       [ 6,  7,  8,  9, 10]])"
      ]
     },
     "execution_count": 32,
     "metadata": {},
     "output_type": "execute_result"
    }
   ],
   "source": [
    "np.arange(1,11).reshape(2,5)"
   ]
  },
  {
   "cell_type": "code",
   "execution_count": 33,
   "id": "c6f17955-e83a-4290-9b8f-dbe8eec9364a",
   "metadata": {},
   "outputs": [],
   "source": [
    "# np.ones and np.zeros"
   ]
  },
  {
   "cell_type": "code",
   "execution_count": 35,
   "id": "10475736-f397-47c9-a77f-44ea1e15b76d",
   "metadata": {},
   "outputs": [
    {
     "data": {
      "text/plain": [
       "array([[1., 1., 1., 1.],\n",
       "       [1., 1., 1., 1.],\n",
       "       [1., 1., 1., 1.]])"
      ]
     },
     "execution_count": 35,
     "metadata": {},
     "output_type": "execute_result"
    }
   ],
   "source": [
    "np.ones((3,4))"
   ]
  },
  {
   "cell_type": "code",
   "execution_count": 36,
   "id": "48102527-f85b-414e-904c-f90bbd5a6221",
   "metadata": {},
   "outputs": [
    {
     "data": {
      "text/plain": [
       "array([[0., 0., 0., 0.],\n",
       "       [0., 0., 0., 0.],\n",
       "       [0., 0., 0., 0.]])"
      ]
     },
     "execution_count": 36,
     "metadata": {},
     "output_type": "execute_result"
    }
   ],
   "source": [
    "np.zeros((3,4))"
   ]
  },
  {
   "cell_type": "code",
   "execution_count": 39,
   "id": "7068c69f-1721-410c-90c4-51e72b509457",
   "metadata": {},
   "outputs": [
    {
     "data": {
      "text/plain": [
       "array([[0.59550044, 0.00579817, 0.32121989, 0.0832738 ],\n",
       "       [0.91526192, 0.68288792, 0.95636949, 0.54913213],\n",
       "       [0.70758937, 0.31315471, 0.30241215, 0.4194455 ]])"
      ]
     },
     "execution_count": 39,
     "metadata": {},
     "output_type": "execute_result"
    }
   ],
   "source": [
    "# np.random\n",
    "np.random.random((3,4))"
   ]
  },
  {
   "cell_type": "code",
   "execution_count": 54,
   "id": "944ac6b0-2993-43ab-8cca-ffe3d83f08ea",
   "metadata": {},
   "outputs": [
    {
     "data": {
      "text/plain": [
       "array([-10.        ,  -8.94736842,  -7.89473684,  -6.84210526,\n",
       "        -5.78947368,  -4.73684211,  -3.68421053,  -2.63157895,\n",
       "        -1.57894737,  -0.52631579,   0.52631579,   1.57894737,\n",
       "         2.63157895,   3.68421053,   4.73684211,   5.78947368,\n",
       "         6.84210526,   7.89473684,   8.94736842,  10.        ])"
      ]
     },
     "execution_count": 54,
     "metadata": {},
     "output_type": "execute_result"
    }
   ],
   "source": [
    "# np.linspace => In given range it creates array at equal distance.\n",
    "np.linspace(start=-10,stop=10,num=20)"
   ]
  },
  {
   "cell_type": "code",
   "execution_count": 55,
   "id": "6b88fc45-274e-43a2-9659-1357f42bcd76",
   "metadata": {},
   "outputs": [
    {
     "data": {
      "text/plain": [
       "array([[1., 0., 0.],\n",
       "       [0., 1., 0.],\n",
       "       [0., 0., 1.]])"
      ]
     },
     "execution_count": 55,
     "metadata": {},
     "output_type": "execute_result"
    }
   ],
   "source": [
    "# np.identity\n",
    "np.identity(3)"
   ]
  },
  {
   "cell_type": "markdown",
   "id": "0e44a2bb-5bfb-47e3-bc7d-b052e0b62ab4",
   "metadata": {},
   "source": [
    "## Array Attributes"
   ]
  },
  {
   "cell_type": "code",
   "execution_count": 68,
   "id": "c96f7cd3-c884-483a-b014-c0b4557ac044",
   "metadata": {},
   "outputs": [],
   "source": [
    "a1 = np.arange(10)\n",
    "a2 = np.arange(12,dtype=float).reshape(3,4)\n",
    "a3 = np.arange(8).reshape(2,2,2)"
   ]
  },
  {
   "cell_type": "code",
   "execution_count": 69,
   "id": "cfad49e5-7285-4d76-8ca0-7fc3df2a6933",
   "metadata": {},
   "outputs": [
    {
     "data": {
      "text/plain": [
       "array([0, 1, 2, 3, 4, 5, 6, 7, 8, 9])"
      ]
     },
     "execution_count": 69,
     "metadata": {},
     "output_type": "execute_result"
    }
   ],
   "source": [
    "a1"
   ]
  },
  {
   "cell_type": "code",
   "execution_count": 70,
   "id": "082590a5-0fd6-4280-bb2e-5cccd61cf6a7",
   "metadata": {},
   "outputs": [
    {
     "data": {
      "text/plain": [
       "array([[ 0.,  1.,  2.,  3.],\n",
       "       [ 4.,  5.,  6.,  7.],\n",
       "       [ 8.,  9., 10., 11.]])"
      ]
     },
     "execution_count": 70,
     "metadata": {},
     "output_type": "execute_result"
    }
   ],
   "source": [
    "a2"
   ]
  },
  {
   "cell_type": "code",
   "execution_count": 71,
   "id": "54f3bc1a-62ef-4744-882a-df0cf1c3021f",
   "metadata": {},
   "outputs": [
    {
     "data": {
      "text/plain": [
       "array([[[0, 1],\n",
       "        [2, 3]],\n",
       "\n",
       "       [[4, 5],\n",
       "        [6, 7]]])"
      ]
     },
     "execution_count": 71,
     "metadata": {},
     "output_type": "execute_result"
    }
   ],
   "source": [
    "a3"
   ]
  },
  {
   "cell_type": "code",
   "execution_count": 72,
   "id": "ddf45631-ad5a-47f4-ab0a-5caef5869653",
   "metadata": {},
   "outputs": [
    {
     "data": {
      "text/plain": [
       "1"
      ]
     },
     "execution_count": 72,
     "metadata": {},
     "output_type": "execute_result"
    }
   ],
   "source": [
    "# ndim\n",
    "a1.ndim"
   ]
  },
  {
   "cell_type": "code",
   "execution_count": 73,
   "id": "4d2e81b3-c256-4bf0-921b-26f0989eb121",
   "metadata": {},
   "outputs": [
    {
     "data": {
      "text/plain": [
       "2"
      ]
     },
     "execution_count": 73,
     "metadata": {},
     "output_type": "execute_result"
    }
   ],
   "source": [
    "a2.ndim"
   ]
  },
  {
   "cell_type": "code",
   "execution_count": 74,
   "id": "5d09de45-e903-4c24-bb77-2ef64a802b67",
   "metadata": {},
   "outputs": [
    {
     "data": {
      "text/plain": [
       "3"
      ]
     },
     "execution_count": 74,
     "metadata": {},
     "output_type": "execute_result"
    }
   ],
   "source": [
    "a3.ndim"
   ]
  },
  {
   "cell_type": "code",
   "execution_count": 75,
   "id": "2ee68124-bc43-4307-b396-203652a815f0",
   "metadata": {},
   "outputs": [
    {
     "data": {
      "text/plain": [
       "(10,)"
      ]
     },
     "execution_count": 75,
     "metadata": {},
     "output_type": "execute_result"
    }
   ],
   "source": [
    "# shape\n",
    "a1.shape"
   ]
  },
  {
   "cell_type": "code",
   "execution_count": 76,
   "id": "081fcad1-03f4-4fd7-a348-e3f37139c748",
   "metadata": {},
   "outputs": [
    {
     "data": {
      "text/plain": [
       "(3, 4)"
      ]
     },
     "execution_count": 76,
     "metadata": {},
     "output_type": "execute_result"
    }
   ],
   "source": [
    "a2.shape"
   ]
  },
  {
   "cell_type": "code",
   "execution_count": 77,
   "id": "152691b4-9290-484f-815e-3f96e662faa0",
   "metadata": {},
   "outputs": [
    {
     "data": {
      "text/plain": [
       "(2, 2, 2)"
      ]
     },
     "execution_count": 77,
     "metadata": {},
     "output_type": "execute_result"
    }
   ],
   "source": [
    "a3.shape"
   ]
  },
  {
   "cell_type": "code",
   "execution_count": 78,
   "id": "56c7e75b-7394-44cd-aac9-b9c6f06f8253",
   "metadata": {},
   "outputs": [
    {
     "data": {
      "text/plain": [
       "10"
      ]
     },
     "execution_count": 78,
     "metadata": {},
     "output_type": "execute_result"
    }
   ],
   "source": [
    "# size\n",
    "a1.size"
   ]
  },
  {
   "cell_type": "code",
   "execution_count": 79,
   "id": "4b578f81-dbdf-48ff-9ed7-55225a1fb97b",
   "metadata": {},
   "outputs": [
    {
     "data": {
      "text/plain": [
       "12"
      ]
     },
     "execution_count": 79,
     "metadata": {},
     "output_type": "execute_result"
    }
   ],
   "source": [
    "a2.size"
   ]
  },
  {
   "cell_type": "code",
   "execution_count": 80,
   "id": "2f9faca6-9c33-4986-96bc-c3b39f618be1",
   "metadata": {},
   "outputs": [
    {
     "data": {
      "text/plain": [
       "8"
      ]
     },
     "execution_count": 80,
     "metadata": {},
     "output_type": "execute_result"
    }
   ],
   "source": [
    "a3.size"
   ]
  },
  {
   "cell_type": "code",
   "execution_count": 87,
   "id": "cc36bb64-8eac-4cd2-be18-ceedd317172f",
   "metadata": {},
   "outputs": [
    {
     "data": {
      "text/plain": [
       "4"
      ]
     },
     "execution_count": 87,
     "metadata": {},
     "output_type": "execute_result"
    }
   ],
   "source": [
    "# itemsize \n",
    "a1.itemsize\n",
    "# 4 bit"
   ]
  },
  {
   "cell_type": "code",
   "execution_count": 88,
   "id": "87e84d48-e422-4fcc-a0ee-2898e6b9db41",
   "metadata": {},
   "outputs": [
    {
     "data": {
      "text/plain": [
       "8"
      ]
     },
     "execution_count": 88,
     "metadata": {},
     "output_type": "execute_result"
    }
   ],
   "source": [
    "a2.itemsize\n",
    "# 8 bit"
   ]
  },
  {
   "cell_type": "code",
   "execution_count": 89,
   "id": "d1ed60d0-83e6-4d3b-9349-361c211693f5",
   "metadata": {},
   "outputs": [
    {
     "data": {
      "text/plain": [
       "4"
      ]
     },
     "execution_count": 89,
     "metadata": {},
     "output_type": "execute_result"
    }
   ],
   "source": [
    "a3.itemsize\n",
    "# 4 bit"
   ]
  },
  {
   "cell_type": "code",
   "execution_count": 84,
   "id": "52e70e3d-f360-4caf-8384-0e2fbddcc934",
   "metadata": {},
   "outputs": [
    {
     "data": {
      "text/plain": [
       "dtype('int32')"
      ]
     },
     "execution_count": 84,
     "metadata": {},
     "output_type": "execute_result"
    }
   ],
   "source": [
    "# dtype\n",
    "a1.dtype"
   ]
  },
  {
   "cell_type": "code",
   "execution_count": 85,
   "id": "438a1158-7a91-458f-b42a-28afad6c8d90",
   "metadata": {},
   "outputs": [
    {
     "data": {
      "text/plain": [
       "dtype('float64')"
      ]
     },
     "execution_count": 85,
     "metadata": {},
     "output_type": "execute_result"
    }
   ],
   "source": [
    "a2.dtype"
   ]
  },
  {
   "cell_type": "code",
   "execution_count": 86,
   "id": "ba39d8cd-e50d-43ec-a607-2527e23697c1",
   "metadata": {},
   "outputs": [
    {
     "data": {
      "text/plain": [
       "dtype('int32')"
      ]
     },
     "execution_count": 86,
     "metadata": {},
     "output_type": "execute_result"
    }
   ],
   "source": [
    "a3.dtype"
   ]
  },
  {
   "cell_type": "markdown",
   "id": "ee8fb986-b438-4422-af73-189e8b2e5173",
   "metadata": {},
   "source": [
    "## Changing Datatype"
   ]
  },
  {
   "cell_type": "code",
   "execution_count": 92,
   "id": "39fccd7e-78fa-41b6-b167-1900226701fb",
   "metadata": {},
   "outputs": [
    {
     "data": {
      "text/plain": [
       "dtype('int32')"
      ]
     },
     "execution_count": 92,
     "metadata": {},
     "output_type": "execute_result"
    }
   ],
   "source": [
    "a3.dtype"
   ]
  },
  {
   "cell_type": "code",
   "execution_count": 93,
   "id": "ab0764d1-a42e-4eba-ac53-f64eee9b5cc1",
   "metadata": {},
   "outputs": [
    {
     "data": {
      "text/plain": [
       "array([[[0, 1],\n",
       "        [2, 3]],\n",
       "\n",
       "       [[4, 5],\n",
       "        [6, 7]]], dtype=int64)"
      ]
     },
     "execution_count": 93,
     "metadata": {},
     "output_type": "execute_result"
    }
   ],
   "source": [
    "# astype\n",
    "a3.astype(np.int64)"
   ]
  },
  {
   "cell_type": "markdown",
   "id": "a2b96f99-fd9a-43b4-bb59-f9bf116ac493",
   "metadata": {},
   "source": [
    "## Array Operations"
   ]
  },
  {
   "cell_type": "code",
   "execution_count": 108,
   "id": "5c93a27d-8d4a-4389-a814-9752113c85fb",
   "metadata": {},
   "outputs": [],
   "source": [
    "a1 = np.arange(12).reshape(3,4)\n",
    "a2 = np.arange(12,24).reshape(3,4)"
   ]
  },
  {
   "cell_type": "code",
   "execution_count": 109,
   "id": "62d39a09-7297-4178-a373-e55b5c7ca263",
   "metadata": {},
   "outputs": [
    {
     "name": "stdout",
     "output_type": "stream",
     "text": [
      "[[ 2  3  4  5]\n",
      " [ 6  7  8  9]\n",
      " [10 11 12 13]]\n",
      "[[-2 -1  0  1]\n",
      " [ 2  3  4  5]\n",
      " [ 6  7  8  9]]\n",
      "[[ 0  2  4  6]\n",
      " [ 8 10 12 14]\n",
      " [16 18 20 22]]\n",
      "[[0.  0.5 1.  1.5]\n",
      " [2.  2.5 3.  3.5]\n",
      " [4.  4.5 5.  5.5]]\n",
      "[[  0   1   4   9]\n",
      " [ 16  25  36  49]\n",
      " [ 64  81 100 121]]\n"
     ]
    }
   ],
   "source": [
    "# Scaler Functions\n",
    "# Arithmetic\n",
    "print(a1 + 2)\n",
    "print(a1 - 2)\n",
    "print(a1 * 2)\n",
    "print(a1 / 2)\n",
    "print(a1 ** 2)"
   ]
  },
  {
   "cell_type": "code",
   "execution_count": 110,
   "id": "d449c006-b821-434f-a518-207e42563c08",
   "metadata": {},
   "outputs": [
    {
     "data": {
      "text/plain": [
       "array([[False, False, False,  True],\n",
       "       [ True,  True,  True,  True],\n",
       "       [ True,  True,  True,  True]])"
      ]
     },
     "execution_count": 110,
     "metadata": {},
     "output_type": "execute_result"
    }
   ],
   "source": [
    "# Relational\n",
    "a1 > 2"
   ]
  },
  {
   "cell_type": "code",
   "execution_count": 112,
   "id": "af627d1e-b74d-41c6-8d3e-8b8bd9a635e6",
   "metadata": {},
   "outputs": [
    {
     "data": {
      "text/plain": [
       "array([[False, False, False, False],\n",
       "       [False, False, False, False],\n",
       "       [ True, False, False, False]])"
      ]
     },
     "execution_count": 112,
     "metadata": {},
     "output_type": "execute_result"
    }
   ],
   "source": [
    "a2 == 20"
   ]
  },
  {
   "cell_type": "code",
   "execution_count": 113,
   "id": "eac8a11c-6e3a-491b-afc2-b280a09c90e4",
   "metadata": {},
   "outputs": [
    {
     "data": {
      "text/plain": [
       "array([[12, 14, 16, 18],\n",
       "       [20, 22, 24, 26],\n",
       "       [28, 30, 32, 34]])"
      ]
     },
     "execution_count": 113,
     "metadata": {},
     "output_type": "execute_result"
    }
   ],
   "source": [
    "# Vector Operation\n",
    "# Arithmetic\n",
    "a1 + a2"
   ]
  },
  {
   "cell_type": "code",
   "execution_count": 114,
   "id": "2a920ada-8d3e-4c73-8f62-53c029bc84be",
   "metadata": {},
   "outputs": [
    {
     "data": {
      "text/plain": [
       "array([[12, 12, 12, 12],\n",
       "       [12, 12, 12, 12],\n",
       "       [12, 12, 12, 12]])"
      ]
     },
     "execution_count": 114,
     "metadata": {},
     "output_type": "execute_result"
    }
   ],
   "source": [
    "a2 - a1"
   ]
  },
  {
   "cell_type": "markdown",
   "id": "6961f5f2-a12a-48e7-829b-b5508d85df4e",
   "metadata": {},
   "source": [
    "## Array Functions"
   ]
  },
  {
   "cell_type": "code",
   "execution_count": 128,
   "id": "788ae060-a608-49fd-8585-24fe2d75352a",
   "metadata": {},
   "outputs": [],
   "source": [
    "a1 = np.random.random((3,3))\n",
    "a1 = np.round(a1*100)"
   ]
  },
  {
   "cell_type": "code",
   "execution_count": 129,
   "id": "6808d27a-0382-46ac-9a26-61f886ce2e5b",
   "metadata": {},
   "outputs": [
    {
     "data": {
      "text/plain": [
       "array([[77., 79., 43.],\n",
       "       [65., 23., 82.],\n",
       "       [77., 67., 39.]])"
      ]
     },
     "execution_count": 129,
     "metadata": {},
     "output_type": "execute_result"
    }
   ],
   "source": [
    "a1"
   ]
  },
  {
   "cell_type": "code",
   "execution_count": 140,
   "id": "6d2f5243-0208-47da-82f3-d9ac21ba0cac",
   "metadata": {},
   "outputs": [],
   "source": [
    "# max/min/sum/prod"
   ]
  },
  {
   "cell_type": "code",
   "execution_count": 141,
   "id": "c05316f5-51f8-41d4-9627-5f9537cdc86b",
   "metadata": {},
   "outputs": [
    {
     "name": "stdout",
     "output_type": "stream",
     "text": [
      "82.0\n",
      "[77. 79. 82.]\n",
      "[79. 82. 77.]\n"
     ]
    }
   ],
   "source": [
    "print(np.max(a1))\n",
    "print(np.max(a1,axis=0))\n",
    "print(np.max(a1,axis=1))"
   ]
  },
  {
   "cell_type": "code",
   "execution_count": 142,
   "id": "e475013f-0596-4533-8827-70a1ac6f94c2",
   "metadata": {},
   "outputs": [
    {
     "name": "stdout",
     "output_type": "stream",
     "text": [
      "23.0\n",
      "[65. 23. 39.]\n",
      "[43. 23. 39.]\n"
     ]
    }
   ],
   "source": [
    "print(np.min(a1))\n",
    "print(np.min(a1,axis=0))\n",
    "print(np.min(a1,axis=1))"
   ]
  },
  {
   "cell_type": "code",
   "execution_count": 143,
   "id": "43231625-f4ef-45a9-86b3-d4894044467e",
   "metadata": {},
   "outputs": [
    {
     "name": "stdout",
     "output_type": "stream",
     "text": [
      "552.0\n",
      "[219. 169. 164.]\n",
      "[199. 170. 183.]\n"
     ]
    }
   ],
   "source": [
    "print(np.sum(a1))\n",
    "print(np.sum(a1,axis=0))\n",
    "print(np.sum(a1,axis=1))"
   ]
  },
  {
   "cell_type": "code",
   "execution_count": 144,
   "id": "3cdeb84d-ee63-4d9c-9622-7c3c4a1207c0",
   "metadata": {},
   "outputs": [
    {
     "name": "stdout",
     "output_type": "stream",
     "text": [
      "6451659700195710.0\n",
      "[385385. 121739. 137514.]\n",
      "[261569. 122590. 201201.]\n"
     ]
    }
   ],
   "source": [
    "print(np.prod(a1))\n",
    "print(np.prod(a1,axis=0))\n",
    "print(np.prod(a1,axis=1))"
   ]
  },
  {
   "cell_type": "code",
   "execution_count": 145,
   "id": "2aac77d2-604c-44a9-b910-9f28650472f5",
   "metadata": {},
   "outputs": [],
   "source": [
    "# Mean/Median/Std/Var"
   ]
  },
  {
   "cell_type": "code",
   "execution_count": 150,
   "id": "7f97f1b2-f01c-4a14-af2d-0499ac57fb24",
   "metadata": {},
   "outputs": [
    {
     "data": {
      "text/plain": [
       "61.333333333333336"
      ]
     },
     "execution_count": 150,
     "metadata": {},
     "output_type": "execute_result"
    }
   ],
   "source": [
    "np.mean(a1)\n",
    "# axis=0,axis=1"
   ]
  },
  {
   "cell_type": "code",
   "execution_count": 151,
   "id": "ad365329-61b6-4f4f-8f19-f1d8e10eb649",
   "metadata": {},
   "outputs": [
    {
     "data": {
      "text/plain": [
       "67.0"
      ]
     },
     "execution_count": 151,
     "metadata": {},
     "output_type": "execute_result"
    }
   ],
   "source": [
    "np.median(a1)\n",
    "# axis=0,axis=1"
   ]
  },
  {
   "cell_type": "code",
   "execution_count": 153,
   "id": "2d1ae372-748d-45a0-aa57-87149c326a08",
   "metadata": {},
   "outputs": [
    {
     "data": {
      "text/plain": [
       "19.94436706886879"
      ]
     },
     "execution_count": 153,
     "metadata": {},
     "output_type": "execute_result"
    }
   ],
   "source": [
    "np.std(a1)\n",
    "# axis=0,axis=1"
   ]
  },
  {
   "cell_type": "code",
   "execution_count": 156,
   "id": "525d3808-b792-479c-9ab3-9f852df23ad3",
   "metadata": {},
   "outputs": [
    {
     "data": {
      "text/plain": [
       "397.7777777777778"
      ]
     },
     "execution_count": 156,
     "metadata": {},
     "output_type": "execute_result"
    }
   ],
   "source": [
    "np.var(a1)\n",
    "# 19.94436706886879 ** 2"
   ]
  },
  {
   "cell_type": "code",
   "execution_count": 146,
   "id": "aca2cf1d-231f-4856-a2e2-434b3e9e54f6",
   "metadata": {},
   "outputs": [],
   "source": [
    "# trigonomoetric functions"
   ]
  },
  {
   "cell_type": "code",
   "execution_count": 159,
   "id": "7aa4197a-3679-4b60-be1d-9a78994280ad",
   "metadata": {},
   "outputs": [
    {
     "data": {
      "text/plain": [
       "array([[ 0.99952016, -0.44411267, -0.83177474],\n",
       "       [ 0.82682868, -0.8462204 ,  0.31322878],\n",
       "       [ 0.99952016, -0.85551998,  0.96379539]])"
      ]
     },
     "execution_count": 159,
     "metadata": {},
     "output_type": "execute_result"
    }
   ],
   "source": [
    "np.sin(a1)"
   ]
  },
  {
   "cell_type": "code",
   "execution_count": 160,
   "id": "c7279aa9-ed97-4d3e-b68e-c2323660dd5f",
   "metadata": {},
   "outputs": [
    {
     "data": {
      "text/plain": [
       "array([[-0.03097503, -0.89597095,  0.5551133 ],\n",
       "       [-0.56245385, -0.53283302,  0.9496777 ],\n",
       "       [-0.03097503, -0.5177698 ,  0.26664293]])"
      ]
     },
     "execution_count": 160,
     "metadata": {},
     "output_type": "execute_result"
    }
   ],
   "source": [
    "np.cos(a1)"
   ]
  },
  {
   "cell_type": "code",
   "execution_count": 161,
   "id": "fb14d82d-c018-4cd0-925f-fe2e2238cf87",
   "metadata": {},
   "outputs": [
    {
     "data": {
      "text/plain": [
       "array([[-32.26857578,   0.49567753,  -1.49838734],\n",
       "       [ -1.47003826,   1.58815308,   0.32982641],\n",
       "       [-32.26857578,   1.65231726,   3.61455441]])"
      ]
     },
     "execution_count": 161,
     "metadata": {},
     "output_type": "execute_result"
    }
   ],
   "source": [
    "np.tan(a1)"
   ]
  },
  {
   "cell_type": "code",
   "execution_count": 162,
   "id": "8ca64642-e4b5-481c-9144-8f399da948fc",
   "metadata": {},
   "outputs": [],
   "source": [
    "# Dot Product"
   ]
  },
  {
   "cell_type": "code",
   "execution_count": 163,
   "id": "6a505562-84ed-4ef6-b7c7-2b63d3548f67",
   "metadata": {},
   "outputs": [],
   "source": [
    "a2 = np.arange(12).reshape(3,4)\n",
    "a3 = np.arange(12,24).reshape(4,3)"
   ]
  },
  {
   "cell_type": "code",
   "execution_count": 164,
   "id": "d68ba79c-9b47-46ab-8bb9-4c3e4df1e8f5",
   "metadata": {},
   "outputs": [
    {
     "data": {
      "text/plain": [
       "array([[ 0,  1,  2,  3],\n",
       "       [ 4,  5,  6,  7],\n",
       "       [ 8,  9, 10, 11]])"
      ]
     },
     "execution_count": 164,
     "metadata": {},
     "output_type": "execute_result"
    }
   ],
   "source": [
    "a2"
   ]
  },
  {
   "cell_type": "code",
   "execution_count": 165,
   "id": "b72dd864-18b0-4c16-80f3-b5722b2ae974",
   "metadata": {},
   "outputs": [
    {
     "data": {
      "text/plain": [
       "array([[12, 13, 14],\n",
       "       [15, 16, 17],\n",
       "       [18, 19, 20],\n",
       "       [21, 22, 23]])"
      ]
     },
     "execution_count": 165,
     "metadata": {},
     "output_type": "execute_result"
    }
   ],
   "source": [
    "a3"
   ]
  },
  {
   "cell_type": "code",
   "execution_count": 166,
   "id": "093732aa-5276-4a03-ba5d-a82faf5df8d6",
   "metadata": {},
   "outputs": [
    {
     "data": {
      "text/plain": [
       "array([[114, 120, 126],\n",
       "       [378, 400, 422],\n",
       "       [642, 680, 718]])"
      ]
     },
     "execution_count": 166,
     "metadata": {},
     "output_type": "execute_result"
    }
   ],
   "source": [
    "np.dot(a2,a3)"
   ]
  },
  {
   "cell_type": "code",
   "execution_count": 170,
   "id": "c5f0b0a3-75e1-4be8-b69d-2f25ce26da54",
   "metadata": {},
   "outputs": [
    {
     "name": "stderr",
     "output_type": "stream",
     "text": [
      "C:\\Users\\Admin\\AppData\\Local\\Temp\\ipykernel_28108\\4288203401.py:2: RuntimeWarning: divide by zero encountered in log\n",
      "  np.log(a2)\n"
     ]
    },
    {
     "data": {
      "text/plain": [
       "array([[      -inf, 0.        , 0.69314718, 1.09861229],\n",
       "       [1.38629436, 1.60943791, 1.79175947, 1.94591015],\n",
       "       [2.07944154, 2.19722458, 2.30258509, 2.39789527]])"
      ]
     },
     "execution_count": 170,
     "metadata": {},
     "output_type": "execute_result"
    }
   ],
   "source": [
    "# Log and Exponent\n",
    "np.log(a2)"
   ]
  },
  {
   "cell_type": "code",
   "execution_count": 171,
   "id": "70539cec-1665-49c8-9e2a-c669e5145b5f",
   "metadata": {},
   "outputs": [
    {
     "data": {
      "text/plain": [
       "array([[1.00000000e+00, 2.71828183e+00, 7.38905610e+00, 2.00855369e+01],\n",
       "       [5.45981500e+01, 1.48413159e+02, 4.03428793e+02, 1.09663316e+03],\n",
       "       [2.98095799e+03, 8.10308393e+03, 2.20264658e+04, 5.98741417e+04]])"
      ]
     },
     "execution_count": 171,
     "metadata": {},
     "output_type": "execute_result"
    }
   ],
   "source": [
    "np.exp(a2)"
   ]
  },
  {
   "cell_type": "code",
   "execution_count": 177,
   "id": "722d5a47-c6c6-4a0f-a1f1-0c8a532fe02d",
   "metadata": {},
   "outputs": [
    {
     "data": {
      "text/plain": [
       "array([[12., 18.,  4.],\n",
       "       [ 9.,  4.,  8.],\n",
       "       [ 4.,  2., 18.]])"
      ]
     },
     "execution_count": 177,
     "metadata": {},
     "output_type": "execute_result"
    }
   ],
   "source": [
    "# round/floor/ceil\n",
    "np.round(np.random.random((3,3))*20)"
   ]
  },
  {
   "cell_type": "code",
   "execution_count": 178,
   "id": "44a0bc0d-18ab-4644-b2cc-e2c0b5a15256",
   "metadata": {},
   "outputs": [
    {
     "data": {
      "text/plain": [
       "array([[14.,  9., 11.],\n",
       "       [19.,  1., 15.],\n",
       "       [10., 19., 14.]])"
      ]
     },
     "execution_count": 178,
     "metadata": {},
     "output_type": "execute_result"
    }
   ],
   "source": [
    "np.floor(np.random.random((3,3))*20)"
   ]
  },
  {
   "cell_type": "code",
   "execution_count": 180,
   "id": "985b92f9-e208-4222-9c0c-4d53991e0dc3",
   "metadata": {},
   "outputs": [
    {
     "data": {
      "text/plain": [
       "array([[13.,  4., 17.],\n",
       "       [ 6.,  4., 18.],\n",
       "       [12., 20.,  9.]])"
      ]
     },
     "execution_count": 180,
     "metadata": {},
     "output_type": "execute_result"
    }
   ],
   "source": [
    "np.ceil(np.random.random((3,3))*20)"
   ]
  },
  {
   "cell_type": "markdown",
   "id": "83831e50-8a02-4ff2-bd9d-c4629c14a777",
   "metadata": {},
   "source": [
    "## Indexing and Slicing"
   ]
  },
  {
   "cell_type": "markdown",
   "id": "f061d497-6b6a-41b4-9b68-9de00d5c66f9",
   "metadata": {},
   "source": [
    "### Indexing"
   ]
  },
  {
   "cell_type": "code",
   "execution_count": 182,
   "id": "e6accb48-e089-476c-a4e9-b40743870527",
   "metadata": {},
   "outputs": [],
   "source": [
    "a1 = np.arange(10)\n",
    "a2 = np.arange(12).reshape(3,4)\n",
    "a3 = np.arange(8).reshape(2,2,2)"
   ]
  },
  {
   "cell_type": "code",
   "execution_count": 183,
   "id": "d0062832-3680-4386-90a7-445333c7a839",
   "metadata": {},
   "outputs": [
    {
     "data": {
      "text/plain": [
       "array([0, 1, 2, 3, 4, 5, 6, 7, 8, 9])"
      ]
     },
     "execution_count": 183,
     "metadata": {},
     "output_type": "execute_result"
    }
   ],
   "source": [
    "a1"
   ]
  },
  {
   "cell_type": "code",
   "execution_count": 184,
   "id": "d5a69905-8a24-4aa1-b05d-d148ca3b3392",
   "metadata": {},
   "outputs": [
    {
     "data": {
      "text/plain": [
       "array([[ 0,  1,  2,  3],\n",
       "       [ 4,  5,  6,  7],\n",
       "       [ 8,  9, 10, 11]])"
      ]
     },
     "execution_count": 184,
     "metadata": {},
     "output_type": "execute_result"
    }
   ],
   "source": [
    "a2"
   ]
  },
  {
   "cell_type": "code",
   "execution_count": 185,
   "id": "cc2ab116-b730-4319-88e3-ef3859db6a0b",
   "metadata": {},
   "outputs": [
    {
     "data": {
      "text/plain": [
       "array([[[0, 1],\n",
       "        [2, 3]],\n",
       "\n",
       "       [[4, 5],\n",
       "        [6, 7]]])"
      ]
     },
     "execution_count": 185,
     "metadata": {},
     "output_type": "execute_result"
    }
   ],
   "source": [
    "a3"
   ]
  },
  {
   "cell_type": "code",
   "execution_count": 186,
   "id": "73748787-14ae-4bd1-8fd0-47be28365073",
   "metadata": {},
   "outputs": [
    {
     "data": {
      "text/plain": [
       "0"
      ]
     },
     "execution_count": 186,
     "metadata": {},
     "output_type": "execute_result"
    }
   ],
   "source": [
    "a1[0]"
   ]
  },
  {
   "cell_type": "code",
   "execution_count": 187,
   "id": "7703b717-3953-47c8-8a2a-43252b859fc5",
   "metadata": {},
   "outputs": [
    {
     "data": {
      "text/plain": [
       "array([0, 1, 2, 3])"
      ]
     },
     "execution_count": 187,
     "metadata": {},
     "output_type": "execute_result"
    }
   ],
   "source": [
    "a1[:4]"
   ]
  },
  {
   "cell_type": "code",
   "execution_count": 189,
   "id": "f84f8367-225a-4b56-b034-703e29780ce3",
   "metadata": {},
   "outputs": [
    {
     "data": {
      "text/plain": [
       "array([6, 5, 4, 3, 2, 1, 0])"
      ]
     },
     "execution_count": 189,
     "metadata": {},
     "output_type": "execute_result"
    }
   ],
   "source": [
    "a1[-4::-1]"
   ]
  },
  {
   "cell_type": "code",
   "execution_count": 190,
   "id": "93c18c91-8bff-4f12-88c1-b1d26d851551",
   "metadata": {},
   "outputs": [
    {
     "data": {
      "text/plain": [
       "array([[ 0,  1,  2,  3],\n",
       "       [ 4,  5,  6,  7],\n",
       "       [ 8,  9, 10, 11]])"
      ]
     },
     "execution_count": 190,
     "metadata": {},
     "output_type": "execute_result"
    }
   ],
   "source": [
    "a2"
   ]
  },
  {
   "cell_type": "code",
   "execution_count": 191,
   "id": "f85190f6-acca-4896-ab52-beb941e7b9ca",
   "metadata": {},
   "outputs": [
    {
     "data": {
      "text/plain": [
       "5"
      ]
     },
     "execution_count": 191,
     "metadata": {},
     "output_type": "execute_result"
    }
   ],
   "source": [
    "# a2[row,column]\n",
    "a2[1,1]"
   ]
  },
  {
   "cell_type": "code",
   "execution_count": 192,
   "id": "c3545a06-fab4-499b-a98f-759391585850",
   "metadata": {},
   "outputs": [
    {
     "data": {
      "text/plain": [
       "10"
      ]
     },
     "execution_count": 192,
     "metadata": {},
     "output_type": "execute_result"
    }
   ],
   "source": [
    "a2[2,2]"
   ]
  },
  {
   "cell_type": "code",
   "execution_count": 193,
   "id": "633c347f-45d3-4a2f-807a-283dc4e3ec44",
   "metadata": {},
   "outputs": [
    {
     "data": {
      "text/plain": [
       "array([[[0, 1],\n",
       "        [2, 3]],\n",
       "\n",
       "       [[4, 5],\n",
       "        [6, 7]]])"
      ]
     },
     "execution_count": 193,
     "metadata": {},
     "output_type": "execute_result"
    }
   ],
   "source": [
    "a3"
   ]
  },
  {
   "cell_type": "code",
   "execution_count": 194,
   "id": "a4383af7-c61b-4d20-a6eb-5acd06f6f18b",
   "metadata": {},
   "outputs": [
    {
     "data": {
      "text/plain": [
       "5"
      ]
     },
     "execution_count": 194,
     "metadata": {},
     "output_type": "execute_result"
    }
   ],
   "source": [
    "a3[1,0,1]"
   ]
  },
  {
   "cell_type": "code",
   "execution_count": 195,
   "id": "27ddb647-009d-46bb-a740-af6124da5a12",
   "metadata": {},
   "outputs": [
    {
     "data": {
      "text/plain": [
       "2"
      ]
     },
     "execution_count": 195,
     "metadata": {},
     "output_type": "execute_result"
    }
   ],
   "source": [
    "a3[0,1,0]"
   ]
  },
  {
   "cell_type": "code",
   "execution_count": 196,
   "id": "b596e6cb-2bfd-4632-a9ef-d0b5f887bde4",
   "metadata": {},
   "outputs": [
    {
     "data": {
      "text/plain": [
       "6"
      ]
     },
     "execution_count": 196,
     "metadata": {},
     "output_type": "execute_result"
    }
   ],
   "source": [
    "a3[1,1,0]"
   ]
  },
  {
   "cell_type": "markdown",
   "id": "c4d632d3-267f-4363-8e4b-411bfa46ef64",
   "metadata": {},
   "source": [
    "## Slicing"
   ]
  },
  {
   "cell_type": "code",
   "execution_count": 197,
   "id": "49ca654b-a927-499b-843d-0a3cab0f65cf",
   "metadata": {},
   "outputs": [
    {
     "data": {
      "text/plain": [
       "array([0, 1, 2, 3, 4, 5, 6, 7, 8, 9])"
      ]
     },
     "execution_count": 197,
     "metadata": {},
     "output_type": "execute_result"
    }
   ],
   "source": [
    "a1"
   ]
  },
  {
   "cell_type": "code",
   "execution_count": 198,
   "id": "cc6e7405-bd7a-4a4d-8bf9-a4e853b8d90e",
   "metadata": {},
   "outputs": [
    {
     "data": {
      "text/plain": [
       "array([3, 4, 5, 6, 7])"
      ]
     },
     "execution_count": 198,
     "metadata": {},
     "output_type": "execute_result"
    }
   ],
   "source": [
    "a1[3:8]"
   ]
  },
  {
   "cell_type": "code",
   "execution_count": 200,
   "id": "7ed6919d-1a47-4a23-aa9b-7432b5ce12c5",
   "metadata": {},
   "outputs": [
    {
     "data": {
      "text/plain": [
       "array([7, 6, 5, 4, 3])"
      ]
     },
     "execution_count": 200,
     "metadata": {},
     "output_type": "execute_result"
    }
   ],
   "source": [
    "a1[-3:-8:-1]"
   ]
  },
  {
   "cell_type": "code",
   "execution_count": 202,
   "id": "0b3e70d8-40db-47ba-8d99-67118ae2cb41",
   "metadata": {},
   "outputs": [
    {
     "data": {
      "text/plain": [
       "array([3, 5, 7])"
      ]
     },
     "execution_count": 202,
     "metadata": {},
     "output_type": "execute_result"
    }
   ],
   "source": [
    "a1[3:8:2]"
   ]
  },
  {
   "cell_type": "code",
   "execution_count": 203,
   "id": "38841ca9-89da-48d1-8a99-b30c4194cd64",
   "metadata": {},
   "outputs": [
    {
     "data": {
      "text/plain": [
       "array([[ 0,  1,  2,  3],\n",
       "       [ 4,  5,  6,  7],\n",
       "       [ 8,  9, 10, 11]])"
      ]
     },
     "execution_count": 203,
     "metadata": {},
     "output_type": "execute_result"
    }
   ],
   "source": [
    "a2"
   ]
  },
  {
   "cell_type": "code",
   "execution_count": 211,
   "id": "175c0973-32e4-4a6a-a81a-f2cf8f33dfef",
   "metadata": {},
   "outputs": [
    {
     "data": {
      "text/plain": [
       "array([0, 1, 2, 3])"
      ]
     },
     "execution_count": 211,
     "metadata": {},
     "output_type": "execute_result"
    }
   ],
   "source": [
    "a2[0,:]"
   ]
  },
  {
   "cell_type": "code",
   "execution_count": 212,
   "id": "18603edc-4259-4b88-8d59-62f5fcdc2047",
   "metadata": {},
   "outputs": [
    {
     "data": {
      "text/plain": [
       "array([ 2,  6, 10])"
      ]
     },
     "execution_count": 212,
     "metadata": {},
     "output_type": "execute_result"
    }
   ],
   "source": [
    "a2[:,2]"
   ]
  },
  {
   "cell_type": "code",
   "execution_count": 214,
   "id": "153b871d-6d7b-4d9f-829a-41d2f19fb9e9",
   "metadata": {},
   "outputs": [
    {
     "data": {
      "text/plain": [
       "array([[ 0,  2],\n",
       "       [ 4,  6],\n",
       "       [ 8, 10]])"
      ]
     },
     "execution_count": 214,
     "metadata": {},
     "output_type": "execute_result"
    }
   ],
   "source": [
    "a2[:,::2]"
   ]
  },
  {
   "cell_type": "code",
   "execution_count": 215,
   "id": "48b0e183-d468-4dcb-bc29-f0f365934286",
   "metadata": {},
   "outputs": [
    {
     "data": {
      "text/plain": [
       "array([[ 0,  2],\n",
       "       [ 8, 10]])"
      ]
     },
     "execution_count": 215,
     "metadata": {},
     "output_type": "execute_result"
    }
   ],
   "source": [
    "a2[::2,::2]"
   ]
  },
  {
   "cell_type": "code",
   "execution_count": 216,
   "id": "2a858139-1bfa-4a6b-a672-a96a5a17e3ea",
   "metadata": {},
   "outputs": [
    {
     "data": {
      "text/plain": [
       "array([[ 5,  6],\n",
       "       [ 9, 10]])"
      ]
     },
     "execution_count": 216,
     "metadata": {},
     "output_type": "execute_result"
    }
   ],
   "source": [
    "a2[1:,1:3]"
   ]
  },
  {
   "cell_type": "code",
   "execution_count": 219,
   "id": "89d75f7d-e317-4891-8b6b-e2507d7087f9",
   "metadata": {},
   "outputs": [
    {
     "data": {
      "text/plain": [
       "array([[ 0,  3],\n",
       "       [ 8, 11]])"
      ]
     },
     "execution_count": 219,
     "metadata": {},
     "output_type": "execute_result"
    }
   ],
   "source": [
    "a2[::2,::3]"
   ]
  },
  {
   "cell_type": "code",
   "execution_count": 221,
   "id": "43160318-f47b-4ad8-bced-6cf7d0bb8191",
   "metadata": {},
   "outputs": [
    {
     "data": {
      "text/plain": [
       "array([[ 1,  3],\n",
       "       [ 9, 11]])"
      ]
     },
     "execution_count": 221,
     "metadata": {},
     "output_type": "execute_result"
    }
   ],
   "source": [
    "a2[::2,1::2]"
   ]
  },
  {
   "cell_type": "code",
   "execution_count": 225,
   "id": "9719e3af-d2de-49c8-a2bc-4aea4107edd0",
   "metadata": {},
   "outputs": [
    {
     "data": {
      "text/plain": [
       "array([[1, 3],\n",
       "       [5, 7]])"
      ]
     },
     "execution_count": 225,
     "metadata": {},
     "output_type": "execute_result"
    }
   ],
   "source": [
    "a2[:2,1::2]"
   ]
  },
  {
   "cell_type": "code",
   "execution_count": 227,
   "id": "28a833de-7968-442e-949b-cc3337bf2464",
   "metadata": {},
   "outputs": [],
   "source": [
    "a3 = np.arange(27).reshape((3,3,3))"
   ]
  },
  {
   "cell_type": "code",
   "execution_count": 228,
   "id": "5b0d8564-c0d2-4d8a-9fa9-321e024778be",
   "metadata": {},
   "outputs": [
    {
     "data": {
      "text/plain": [
       "array([[[ 0,  1,  2],\n",
       "        [ 3,  4,  5],\n",
       "        [ 6,  7,  8]],\n",
       "\n",
       "       [[ 9, 10, 11],\n",
       "        [12, 13, 14],\n",
       "        [15, 16, 17]],\n",
       "\n",
       "       [[18, 19, 20],\n",
       "        [21, 22, 23],\n",
       "        [24, 25, 26]]])"
      ]
     },
     "execution_count": 228,
     "metadata": {},
     "output_type": "execute_result"
    }
   ],
   "source": [
    "a3"
   ]
  },
  {
   "cell_type": "code",
   "execution_count": 231,
   "id": "5a469361-ef8b-4f73-a283-4be085778eb2",
   "metadata": {},
   "outputs": [
    {
     "data": {
      "text/plain": [
       "array([[ 9, 10, 11],\n",
       "       [12, 13, 14],\n",
       "       [15, 16, 17]])"
      ]
     },
     "execution_count": 231,
     "metadata": {},
     "output_type": "execute_result"
    }
   ],
   "source": [
    "a3[1]"
   ]
  },
  {
   "cell_type": "code",
   "execution_count": 232,
   "id": "bedc6cba-3fe2-4ce8-8c5f-8c5be4988e6d",
   "metadata": {},
   "outputs": [
    {
     "data": {
      "text/plain": [
       "array([[[ 0,  1,  2],\n",
       "        [ 3,  4,  5],\n",
       "        [ 6,  7,  8]],\n",
       "\n",
       "       [[18, 19, 20],\n",
       "        [21, 22, 23],\n",
       "        [24, 25, 26]]])"
      ]
     },
     "execution_count": 232,
     "metadata": {},
     "output_type": "execute_result"
    }
   ],
   "source": [
    "a3[::2]"
   ]
  },
  {
   "cell_type": "code",
   "execution_count": 234,
   "id": "8f5d7ed2-4a9c-4b75-bce3-27470a0bd661",
   "metadata": {},
   "outputs": [
    {
     "data": {
      "text/plain": [
       "array([3, 4, 5])"
      ]
     },
     "execution_count": 234,
     "metadata": {},
     "output_type": "execute_result"
    }
   ],
   "source": [
    "a3[0][1]"
   ]
  },
  {
   "cell_type": "code",
   "execution_count": 235,
   "id": "cf7e98f9-6565-46ce-b9e0-e0e73bb4c6f3",
   "metadata": {},
   "outputs": [
    {
     "data": {
      "text/plain": [
       "array([3, 4, 5])"
      ]
     },
     "execution_count": 235,
     "metadata": {},
     "output_type": "execute_result"
    }
   ],
   "source": [
    "a3[0,1,:]"
   ]
  },
  {
   "cell_type": "code",
   "execution_count": 236,
   "id": "b91acba5-b335-4d2f-bf62-b4bff103bf40",
   "metadata": {},
   "outputs": [
    {
     "data": {
      "text/plain": [
       "array([10, 13, 16])"
      ]
     },
     "execution_count": 236,
     "metadata": {},
     "output_type": "execute_result"
    }
   ],
   "source": [
    "a3[1,:,1]"
   ]
  },
  {
   "cell_type": "code",
   "execution_count": 238,
   "id": "1049a8dd-ac97-442e-93a7-9e704dedbaee",
   "metadata": {},
   "outputs": [
    {
     "data": {
      "text/plain": [
       "array([[22, 23],\n",
       "       [25, 26]])"
      ]
     },
     "execution_count": 238,
     "metadata": {},
     "output_type": "execute_result"
    }
   ],
   "source": [
    "a3[2,1:,1:]"
   ]
  },
  {
   "cell_type": "code",
   "execution_count": 240,
   "id": "bdfcd523-a733-470f-a980-f633838732cb",
   "metadata": {},
   "outputs": [
    {
     "data": {
      "text/plain": [
       "array([[ 0,  2],\n",
       "       [18, 20]])"
      ]
     },
     "execution_count": 240,
     "metadata": {},
     "output_type": "execute_result"
    }
   ],
   "source": [
    "a3[::2,0,::2]"
   ]
  },
  {
   "cell_type": "markdown",
   "id": "4b1e52bc-225a-499f-87b6-33e72e6b2c6f",
   "metadata": {},
   "source": [
    "## Iterating"
   ]
  },
  {
   "cell_type": "code",
   "execution_count": 250,
   "id": "427b0e1e-a754-47ea-ba32-3d12050e503f",
   "metadata": {},
   "outputs": [
    {
     "data": {
      "text/plain": [
       "array([0, 1, 2, 3, 4, 5, 6, 7, 8, 9])"
      ]
     },
     "execution_count": 250,
     "metadata": {},
     "output_type": "execute_result"
    }
   ],
   "source": [
    "a1"
   ]
  },
  {
   "cell_type": "code",
   "execution_count": 251,
   "id": "9b803610-5701-4cdd-b53f-7c086b361240",
   "metadata": {},
   "outputs": [
    {
     "name": "stdout",
     "output_type": "stream",
     "text": [
      "0\n",
      "1\n",
      "2\n",
      "3\n",
      "4\n",
      "5\n",
      "6\n",
      "7\n",
      "8\n",
      "9\n"
     ]
    }
   ],
   "source": [
    "for i in a1:\n",
    "    print(i)"
   ]
  },
  {
   "cell_type": "code",
   "execution_count": 248,
   "id": "2e3f3004-3574-4017-8d0d-10d91243f0dc",
   "metadata": {},
   "outputs": [
    {
     "data": {
      "text/plain": [
       "array([[ 0,  1,  2,  3],\n",
       "       [ 4,  5,  6,  7],\n",
       "       [ 8,  9, 10, 11]])"
      ]
     },
     "execution_count": 248,
     "metadata": {},
     "output_type": "execute_result"
    }
   ],
   "source": [
    "a2"
   ]
  },
  {
   "cell_type": "code",
   "execution_count": 249,
   "id": "fdae9531-ca35-4a26-bb20-a0dfde66f048",
   "metadata": {},
   "outputs": [
    {
     "name": "stdout",
     "output_type": "stream",
     "text": [
      "[0 1 2 3]\n",
      "[4 5 6 7]\n",
      "[ 8  9 10 11]\n"
     ]
    }
   ],
   "source": [
    "for i in a2:\n",
    "    print(i)"
   ]
  },
  {
   "cell_type": "code",
   "execution_count": 244,
   "id": "42f8eaca-2db8-437c-9ef0-60b17bd8ecef",
   "metadata": {},
   "outputs": [
    {
     "data": {
      "text/plain": [
       "array([[[ 0,  1,  2],\n",
       "        [ 3,  4,  5],\n",
       "        [ 6,  7,  8]],\n",
       "\n",
       "       [[ 9, 10, 11],\n",
       "        [12, 13, 14],\n",
       "        [15, 16, 17]],\n",
       "\n",
       "       [[18, 19, 20],\n",
       "        [21, 22, 23],\n",
       "        [24, 25, 26]]])"
      ]
     },
     "execution_count": 244,
     "metadata": {},
     "output_type": "execute_result"
    }
   ],
   "source": [
    "a3"
   ]
  },
  {
   "cell_type": "code",
   "execution_count": 247,
   "id": "1974cd83-1fd8-46dd-ad76-94d9b1813061",
   "metadata": {},
   "outputs": [
    {
     "name": "stdout",
     "output_type": "stream",
     "text": [
      "[[0 1 2]\n",
      " [3 4 5]\n",
      " [6 7 8]]\n",
      "[[ 9 10 11]\n",
      " [12 13 14]\n",
      " [15 16 17]]\n",
      "[[18 19 20]\n",
      " [21 22 23]\n",
      " [24 25 26]]\n"
     ]
    }
   ],
   "source": [
    "for i in a3:\n",
    "    print(i)"
   ]
  },
  {
   "cell_type": "code",
   "execution_count": 256,
   "id": "f19b55bc-0786-4fd9-873c-a064a032b6f4",
   "metadata": {},
   "outputs": [
    {
     "name": "stdout",
     "output_type": "stream",
     "text": [
      "0\n",
      "1\n",
      "2\n",
      "3\n",
      "4\n",
      "5\n",
      "6\n",
      "7\n",
      "8\n",
      "9\n",
      "10\n",
      "11\n",
      "12\n",
      "13\n",
      "14\n",
      "15\n",
      "16\n",
      "17\n",
      "18\n",
      "19\n",
      "20\n",
      "21\n",
      "22\n",
      "23\n",
      "24\n",
      "25\n",
      "26\n"
     ]
    }
   ],
   "source": [
    "# np.nditer() will convert any number of dimention into one dimention array.\n",
    "for i in np.nditer(a3):\n",
    "    print(i)"
   ]
  },
  {
   "cell_type": "markdown",
   "id": "70c5322d-0b1a-4459-bee3-66747452b901",
   "metadata": {},
   "source": [
    "## Reshaping"
   ]
  },
  {
   "cell_type": "code",
   "execution_count": 258,
   "id": "f0aaa04d-65a5-4c73-a643-8d7337b9c271",
   "metadata": {},
   "outputs": [
    {
     "data": {
      "text/plain": [
       "array([[0, 1],\n",
       "       [2, 3],\n",
       "       [4, 5],\n",
       "       [6, 7],\n",
       "       [8, 9]])"
      ]
     },
     "execution_count": 258,
     "metadata": {},
     "output_type": "execute_result"
    }
   ],
   "source": [
    "# reshape\n",
    "a1.reshape(5,2)"
   ]
  },
  {
   "cell_type": "code",
   "execution_count": 260,
   "id": "19275258-a8db-4a62-badb-00fa1ee43a05",
   "metadata": {},
   "outputs": [
    {
     "data": {
      "text/plain": [
       "array([[ 0,  4,  8],\n",
       "       [ 1,  5,  9],\n",
       "       [ 2,  6, 10],\n",
       "       [ 3,  7, 11]])"
      ]
     },
     "execution_count": 260,
     "metadata": {},
     "output_type": "execute_result"
    }
   ],
   "source": [
    "# Transpose -> row -> column , column -> row\n",
    "np.transpose(a2)"
   ]
  },
  {
   "cell_type": "code",
   "execution_count": 261,
   "id": "158f43ca-97d2-4d67-8596-061597e73f3c",
   "metadata": {},
   "outputs": [
    {
     "data": {
      "text/plain": [
       "array([ 0,  1,  2,  3,  4,  5,  6,  7,  8,  9, 10, 11, 12, 13, 14, 15, 16,\n",
       "       17, 18, 19, 20, 21, 22, 23, 24, 25, 26])"
      ]
     },
     "execution_count": 261,
     "metadata": {},
     "output_type": "execute_result"
    }
   ],
   "source": [
    "# ravel -> convert any number dimentional array to 1d array\n",
    "np.ravel(a3)"
   ]
  },
  {
   "cell_type": "markdown",
   "id": "bf3fc2fa-3572-447a-818c-e271b8622a63",
   "metadata": {},
   "source": [
    "## Stacking"
   ]
  },
  {
   "cell_type": "markdown",
   "id": "af9db3a5-8043-4a37-be36-9fb0c1bf69a6",
   "metadata": {},
   "source": [
    "### Horizontal Stacking -> Column wise"
   ]
  },
  {
   "cell_type": "code",
   "execution_count": 266,
   "id": "fbf72d4a-8239-46ac-ad28-b73a098818bb",
   "metadata": {},
   "outputs": [],
   "source": [
    "a4 = np.arange(12).reshape(3,4)\n",
    "a5 = np.arange(12,24).reshape(3,4)"
   ]
  },
  {
   "cell_type": "code",
   "execution_count": 267,
   "id": "a654052e-d549-41bb-85d9-8baf2f20101e",
   "metadata": {},
   "outputs": [
    {
     "data": {
      "text/plain": [
       "array([[ 0,  1,  2,  3, 12, 13, 14, 15],\n",
       "       [ 4,  5,  6,  7, 16, 17, 18, 19],\n",
       "       [ 8,  9, 10, 11, 20, 21, 22, 23]])"
      ]
     },
     "execution_count": 267,
     "metadata": {},
     "output_type": "execute_result"
    }
   ],
   "source": [
    "np.hstack((a4,a5))"
   ]
  },
  {
   "cell_type": "markdown",
   "id": "d7cd0205-cfd6-42fa-975d-367156e6d667",
   "metadata": {},
   "source": [
    "### Vertical Stacking -> Row wise"
   ]
  },
  {
   "cell_type": "code",
   "execution_count": 268,
   "id": "4c511432-2b98-451f-a141-aead0c627e00",
   "metadata": {},
   "outputs": [
    {
     "data": {
      "text/plain": [
       "array([[ 0,  1,  2,  3],\n",
       "       [ 4,  5,  6,  7],\n",
       "       [ 8,  9, 10, 11],\n",
       "       [12, 13, 14, 15],\n",
       "       [16, 17, 18, 19],\n",
       "       [20, 21, 22, 23]])"
      ]
     },
     "execution_count": 268,
     "metadata": {},
     "output_type": "execute_result"
    }
   ],
   "source": [
    "np.vstack((a4,a5))"
   ]
  },
  {
   "cell_type": "markdown",
   "id": "2fb6515d-029c-49f0-abea-b0de971b9eca",
   "metadata": {},
   "source": [
    "## Splitting"
   ]
  },
  {
   "cell_type": "markdown",
   "id": "9967c143-f48b-4d1c-a0ab-8f5eab0bcd21",
   "metadata": {},
   "source": [
    "### Horizontal Splitting -> Column wise"
   ]
  },
  {
   "cell_type": "code",
   "execution_count": 270,
   "id": "ec3aa7b1-d7f6-4f1b-81b2-b68540953fea",
   "metadata": {},
   "outputs": [
    {
     "data": {
      "text/plain": [
       "array([[ 0,  1,  2,  3],\n",
       "       [ 4,  5,  6,  7],\n",
       "       [ 8,  9, 10, 11]])"
      ]
     },
     "execution_count": 270,
     "metadata": {},
     "output_type": "execute_result"
    }
   ],
   "source": [
    "a4"
   ]
  },
  {
   "cell_type": "code",
   "execution_count": 274,
   "id": "10459ac8-b9f1-4657-ab58-5ede1e909951",
   "metadata": {},
   "outputs": [
    {
     "data": {
      "text/plain": [
       "[array([[0, 1],\n",
       "        [4, 5],\n",
       "        [8, 9]]),\n",
       " array([[ 2,  3],\n",
       "        [ 6,  7],\n",
       "        [10, 11]])]"
      ]
     },
     "execution_count": 274,
     "metadata": {},
     "output_type": "execute_result"
    }
   ],
   "source": [
    "np.hsplit(a4,2)"
   ]
  },
  {
   "cell_type": "markdown",
   "id": "77252ad5-5e88-486c-b15f-18163ec38906",
   "metadata": {},
   "source": [
    "### Vertical Splitting -> Row wise"
   ]
  },
  {
   "cell_type": "code",
   "execution_count": 280,
   "id": "ee21f709-c990-477b-975e-b01a2ef52cbb",
   "metadata": {},
   "outputs": [],
   "source": [
    "a5 = np.vstack((a5,[33,11,22,55]))"
   ]
  },
  {
   "cell_type": "code",
   "execution_count": 281,
   "id": "3d52cc2c-8191-4d18-aec5-d85cedbb74bf",
   "metadata": {},
   "outputs": [
    {
     "data": {
      "text/plain": [
       "array([[12, 13, 14, 15],\n",
       "       [16, 17, 18, 19],\n",
       "       [20, 21, 22, 23],\n",
       "       [33, 11, 22, 55]])"
      ]
     },
     "execution_count": 281,
     "metadata": {},
     "output_type": "execute_result"
    }
   ],
   "source": [
    "a5"
   ]
  },
  {
   "cell_type": "code",
   "execution_count": 282,
   "id": "5aad9595-a24d-43bd-860c-06b2111bfd3f",
   "metadata": {},
   "outputs": [
    {
     "data": {
      "text/plain": [
       "[array([[12, 13, 14, 15]]),\n",
       " array([[16, 17, 18, 19]]),\n",
       " array([[20, 21, 22, 23]]),\n",
       " array([[33, 11, 22, 55]])]"
      ]
     },
     "execution_count": 282,
     "metadata": {},
     "output_type": "execute_result"
    }
   ],
   "source": [
    "np.vsplit(a5,4)"
   ]
  },
  {
   "cell_type": "code",
   "execution_count": 283,
   "id": "a2ab90b0-c1b7-486a-ab59-10915b466f4b",
   "metadata": {},
   "outputs": [
    {
     "data": {
      "text/plain": [
       "[array([[12, 13, 14, 15],\n",
       "        [16, 17, 18, 19]]),\n",
       " array([[20, 21, 22, 23],\n",
       "        [33, 11, 22, 55]])]"
      ]
     },
     "execution_count": 283,
     "metadata": {},
     "output_type": "execute_result"
    }
   ],
   "source": [
    "np.vsplit(a5,2)"
   ]
  },
  {
   "cell_type": "code",
   "execution_count": null,
   "id": "8b2699a8-c73c-4d08-acd1-6c4e2a65e2b4",
   "metadata": {},
   "outputs": [],
   "source": []
  }
 ],
 "metadata": {
  "kernelspec": {
   "display_name": "Python 3 (ipykernel)",
   "language": "python",
   "name": "python3"
  },
  "language_info": {
   "codemirror_mode": {
    "name": "ipython",
    "version": 3
   },
   "file_extension": ".py",
   "mimetype": "text/x-python",
   "name": "python",
   "nbconvert_exporter": "python",
   "pygments_lexer": "ipython3",
   "version": "3.10.9"
  }
 },
 "nbformat": 4,
 "nbformat_minor": 5
}
